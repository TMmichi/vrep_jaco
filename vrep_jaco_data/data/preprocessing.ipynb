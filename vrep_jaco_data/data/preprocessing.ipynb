{
 "cells": [
  {
   "cell_type": "code",
   "execution_count": 4,
   "metadata": {},
   "outputs": [],
   "source": [
    "import pandas as pd\n",
    "import numpy as np"
   ]
  },
  {
   "cell_type": "code",
   "execution_count": 38,
   "metadata": {},
   "outputs": [],
   "source": [
    "data = np.load(\"/home/kth/Desktop/new/lab/vrep_jaco_ws/src/vrep_jaco_data/data/dummy_data.npy\",allow_pickle=True)"
   ]
  },
  {
   "cell_type": "code",
   "execution_count": 39,
   "metadata": {
    "scrolled": true
   },
   "outputs": [
    {
     "data": {
      "text/plain": [
       "134"
      ]
     },
     "execution_count": 39,
     "metadata": {},
     "output_type": "execute_result"
    }
   ],
   "source": [
    "len(data)"
   ]
  },
  {
   "cell_type": "code",
   "execution_count": 40,
   "metadata": {},
   "outputs": [
    {
     "data": {
      "text/plain": [
       "(134, 480, 640)"
      ]
     },
     "execution_count": 40,
     "metadata": {},
     "output_type": "execute_result"
    }
   ],
   "source": [
    "data.shape"
   ]
  },
  {
   "cell_type": "code",
   "execution_count": 27,
   "metadata": {
    "scrolled": true
   },
   "outputs": [
    {
     "data": {
      "text/plain": [
       "(480, 640)"
      ]
     },
     "execution_count": 27,
     "metadata": {},
     "output_type": "execute_result"
    }
   ],
   "source": [
    "data[0][0][0].shape"
   ]
  },
  {
   "cell_type": "code",
   "execution_count": 30,
   "metadata": {},
   "outputs": [],
   "source": [
    "a = np.ones([134,480,640])"
   ]
  },
  {
   "cell_type": "code",
   "execution_count": 32,
   "metadata": {},
   "outputs": [],
   "source": [
    "a = np.ones([134,480,640])\n",
    "for i in range(len(data)):\n",
    "    for j in range(480):\n",
    "        for k in range(640):\n",
    "            a[i][j][k] = data[i][0][0][j][k]"
   ]
  },
  {
   "cell_type": "code",
   "execution_count": 36,
   "metadata": {},
   "outputs": [
    {
     "data": {
      "text/plain": [
       "(134, 480, 640)"
      ]
     },
     "execution_count": 36,
     "metadata": {},
     "output_type": "execute_result"
    }
   ],
   "source": [
    "a.shape"
   ]
  },
  {
   "cell_type": "code",
   "execution_count": 37,
   "metadata": {},
   "outputs": [],
   "source": [
    "np.save(\"/home/kth/Desktop/new/lab/vrep_jaco_ws/src/vrep_jaco_data/data/dummy_data.npy\",a)"
   ]
  },
  {
   "cell_type": "code",
   "execution_count": 8,
   "metadata": {},
   "outputs": [
    {
     "data": {
      "text/plain": [
       "75.75"
      ]
     },
     "execution_count": 8,
     "metadata": {},
     "output_type": "execute_result"
    }
   ],
   "source": [
    "data[106][1][1]"
   ]
  },
  {
   "cell_type": "code",
   "execution_count": 6,
   "metadata": {},
   "outputs": [
    {
     "name": "stdout",
     "output_type": "stream",
     "text": [
      "124.15\n",
      "124.15\n",
      "124.2\n",
      "124.2\n",
      "124.25\n",
      "124.25\n",
      "124.3\n",
      "124.3\n",
      "124.35\n",
      "124.35\n",
      "124.4\n",
      "124.4\n",
      "124.45\n",
      "124.45\n",
      "124.5\n",
      "124.5\n",
      "124.55\n",
      "124.55\n",
      "124.6\n",
      "124.65\n",
      "124.75\n",
      "124.75\n",
      "124.75\n",
      "124.9\n",
      "124.9\n",
      "124.9\n",
      "125.1\n",
      "125.15\n",
      "125.15\n",
      "125.25\n",
      "125.25\n",
      "125.25\n",
      "125.5\n",
      "125.5\n",
      "125.5\n",
      "125.7\n",
      "125.7\n",
      "125.7\n",
      "125.9\n",
      "125.9\n",
      "125.9\n",
      "126.15\n",
      "126.15\n",
      "126.15\n",
      "126.4\n",
      "126.4\n",
      "126.4\n",
      "126.65\n",
      "126.65\n",
      "126.65\n",
      "126.9\n",
      "126.9\n",
      "126.9\n",
      "127.1\n",
      "127.15\n",
      "127.15\n",
      "127.4\n",
      "127.4\n",
      "127.65\n",
      "127.65\n",
      "127.65\n",
      "127.9\n",
      "127.95\n",
      "127.95\n",
      "128.25\n",
      "128.25\n",
      "128.35\n",
      "128.45\n",
      "128.55\n",
      "128.55\n",
      "128.65\n",
      "128.75\n",
      "128.85\n",
      "128.95\n",
      "128.95\n",
      "129.05\n",
      "129.3\n",
      "129.3\n",
      "129.4\n",
      "129.6\n",
      "129.75\n",
      "129.75\n",
      "129.85\n",
      "130.35\n",
      "130.35\n",
      "130.75\n",
      "130.75\n",
      "130.75\n",
      "131.25\n",
      "131.25\n",
      "131.25\n",
      "131.6\n",
      "131.6\n",
      "131.6\n",
      "132.1\n",
      "132.15\n",
      "132.45\n",
      "132.45\n",
      "132.9\n",
      "132.9\n",
      "133.35\n",
      "133.35\n",
      "133.35\n",
      "133.9\n",
      "133.9\n",
      "133.9\n"
     ]
    }
   ],
   "source": [
    "for i in range(106):\n",
    "    print(data[i][0][1])"
   ]
  },
  {
   "cell_type": "code",
   "execution_count": null,
   "metadata": {},
   "outputs": [],
   "source": []
  }
 ],
 "metadata": {
  "kernelspec": {
   "display_name": "Python 3",
   "language": "python",
   "name": "python3"
  },
  "language_info": {
   "codemirror_mode": {
    "name": "ipython",
    "version": 3
   },
   "file_extension": ".py",
   "mimetype": "text/x-python",
   "name": "python",
   "nbconvert_exporter": "python",
   "pygments_lexer": "ipython3",
   "version": "3.7.6"
  }
 },
 "nbformat": 4,
 "nbformat_minor": 2
}
